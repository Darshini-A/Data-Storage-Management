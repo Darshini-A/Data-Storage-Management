{
  "nbformat": 4,
  "nbformat_minor": 0,
  "metadata": {
    "colab": {
      "provenance": [],
      "gpuType": "T4",
      "authorship_tag": "ABX9TyNwdl0m3cx/V3g00BtnY4qq",
      "include_colab_link": true
    },
    "kernelspec": {
      "name": "python3",
      "display_name": "Python 3"
    },
    "language_info": {
      "name": "python"
    },
    "accelerator": "GPU"
  },
  "cells": [
    {
      "cell_type": "markdown",
      "metadata": {
        "id": "view-in-github",
        "colab_type": "text"
      },
      "source": [
        "<a href=\"https://colab.research.google.com/github/Darshini-A/Data-Storage-Management/blob/main/FashionMnistCNN%202%20.ipynb\" target=\"_parent\"><img src=\"https://colab.research.google.com/assets/colab-badge.svg\" alt=\"Open In Colab\"/></a>"
      ]
    },
    {
      "cell_type": "code",
      "execution_count": null,
      "metadata": {
        "id": "uf0D-Dk7G6WJ"
      },
      "outputs": [],
      "source": [
        "import numpy as np\n",
        "import matplotlib.pyplot as plt\n",
        "from tensorflow.keras.datasets import fashion_mnist\n",
        "from tensorflow.keras.utils import to_categorical\n",
        "from tensorflow.keras.models import Sequential\n",
        "from tensorflow.keras.layers import Input, Dense, Conv2D, Flatten, MaxPool2D, Activation"
      ]
    },
    {
      "cell_type": "code",
      "source": [
        "(x_train, y_train), (x_test, y_test) = fashion_mnist.load_data()"
      ],
      "metadata": {
        "id": "8S_TgP63HnAi"
      },
      "execution_count": null,
      "outputs": []
    },
    {
      "cell_type": "code",
      "source": [
        "print(x_train.shape)\n",
        "print(x_test.shape)\n",
        "print(y_train.shape)\n",
        "print(y_test.shape)"
      ],
      "metadata": {
        "colab": {
          "base_uri": "https://localhost:8080/"
        },
        "id": "HAHKMDECHpfX",
        "outputId": "8e8c9506-2f27-4e93-c78d-ac7403c148ae"
      },
      "execution_count": null,
      "outputs": [
        {
          "output_type": "stream",
          "name": "stdout",
          "text": [
            "(60000, 28, 28)\n",
            "(10000, 28, 28)\n",
            "(60000,)\n",
            "(10000,)\n"
          ]
        }
      ]
    },
    {
      "cell_type": "code",
      "source": [
        "classes = [\"T-shirt/top\", \"Trouser\", \"Pullover\", \"Dress\", \"Coat\", \"Sandal\", \"Shirt\", \"Sneaker\", \"Bag\", \"Ankle boot\"]\n",
        "n=200\n",
        "plt.imshow(x_train[n], cmap=\"gray\")\n",
        "plt.title(classes[y_train[n]])\n",
        "plt.show()"
      ],
      "metadata": {
        "colab": {
          "base_uri": "https://localhost:8080/",
          "height": 452
        },
        "id": "7p1Sw0uLHpnC",
        "outputId": "e49eba70-b1c7-45e8-8758-9073a8508d94"
      },
      "execution_count": 30,
      "outputs": [
        {
          "output_type": "display_data",
          "data": {
            "text/plain": [
              "<Figure size 640x480 with 1 Axes>"
            ],
            "image/png": "[encoded data removed]"
          },
          "metadata": {}
        }
      ]
    },
    {
      "cell_type": "code",
      "source": [
        "y_train_ohe = to_categorical(y_train)\n",
        "y_test_ohe = to_categorical(y_test)"
      ],
      "metadata": {
        "id": "7rVtVYsdHpqb"
      },
      "execution_count": 31,
      "outputs": []
    },
    {
      "cell_type": "code",
      "source": [
        "x_train = x_train.reshape(60000, 28, 28, 1).astype(\"float\")\n",
        "x_test = x_test.reshape(10000, 28, 28, 1).astype(\"float\")"
      ],
      "metadata": {
        "id": "S3gSK9A6HpuP"
      },
      "execution_count": 32,
      "outputs": []
    },
    {
      "cell_type": "code",
      "source": [
        "model = Sequential()\n",
        "model.add(Conv2D(filters=3, kernel_size=(3,3), strides=(1,1)))\n",
        "model.add(Activation(\"relu\"))\n",
        "model.add(Flatten())\n",
        "model.add(Dense(10, activation= \"softmax\"))\n",
        "model.compile(optimizer=\"adam\",\n",
        "              loss=\"categorical_crossentropy\",\n",
        "              metrics=\"accuracy\")\n",
        "model.fit(x=x_train, y=y_train_ohe, epochs=15, validation_data=(x_test, y_test_ohe), batch_size=1000)"
      ],
      "metadata": {
        "colab": {
          "base_uri": "https://localhost:8080/"
        },
        "id": "Y6-hEPFIHpxn",
        "outputId": "74c7d15f-2ffb-441f-c7c8-6eecadd1f3ff"
      },
      "execution_count": 33,
      "outputs": [
        {
          "output_type": "stream",
          "name": "stdout",
          "text": [
            "Epoch 1/15\n",
            "60/60 [==============================] - 1s 10ms/step - loss: 22.8505 - accuracy: 0.6082 - val_loss: 8.9510 - val_accuracy: 0.7215\n",
            "Epoch 2/15\n",
            "60/60 [==============================] - 0s 7ms/step - loss: 6.4573 - accuracy: 0.7526 - val_loss: 5.5005 - val_accuracy: 0.7643\n",
            "Epoch 3/15\n",
            "60/60 [==============================] - 0s 6ms/step - loss: 4.2661 - accuracy: 0.7883 - val_loss: 4.1102 - val_accuracy: 0.7860\n",
            "Epoch 4/15\n",
            "60/60 [==============================] - 0s 6ms/step - loss: 3.2555 - accuracy: 0.8056 - val_loss: 3.5951 - val_accuracy: 0.7938\n",
            "Epoch 5/15\n",
            "60/60 [==============================] - 0s 6ms/step - loss: 2.5901 - accuracy: 0.8208 - val_loss: 3.0329 - val_accuracy: 0.7979\n",
            "Epoch 6/15\n",
            "60/60 [==============================] - 0s 7ms/step - loss: 2.2711 - accuracy: 0.8255 - val_loss: 2.6367 - val_accuracy: 0.8185\n",
            "Epoch 7/15\n",
            "60/60 [==============================] - 0s 8ms/step - loss: 1.8565 - accuracy: 0.8354 - val_loss: 2.1871 - val_accuracy: 0.8214\n",
            "Epoch 8/15\n",
            "60/60 [==============================] - 1s 9ms/step - loss: 1.6218 - accuracy: 0.8403 - val_loss: 2.0006 - val_accuracy: 0.8252\n",
            "Epoch 9/15\n",
            "60/60 [==============================] - 1s 8ms/step - loss: 1.4803 - accuracy: 0.8440 - val_loss: 1.9693 - val_accuracy: 0.8193\n",
            "Epoch 10/15\n",
            "60/60 [==============================] - 0s 8ms/step - loss: 1.2913 - accuracy: 0.8492 - val_loss: 1.7200 - val_accuracy: 0.8321\n",
            "Epoch 11/15\n",
            "60/60 [==============================] - 0s 6ms/step - loss: 1.1712 - accuracy: 0.8519 - val_loss: 1.7234 - val_accuracy: 0.8239\n",
            "Epoch 12/15\n",
            "60/60 [==============================] - 0s 6ms/step - loss: 1.0575 - accuracy: 0.8576 - val_loss: 1.5042 - val_accuracy: 0.8285\n",
            "Epoch 13/15\n",
            "60/60 [==============================] - 0s 6ms/step - loss: 0.9626 - accuracy: 0.8594 - val_loss: 1.4521 - val_accuracy: 0.8267\n",
            "Epoch 14/15\n",
            "60/60 [==============================] - 0s 5ms/step - loss: 0.8865 - accuracy: 0.8623 - val_loss: 1.3510 - val_accuracy: 0.8324\n",
            "Epoch 15/15\n",
            "60/60 [==============================] - 0s 5ms/step - loss: 0.8283 - accuracy: 0.8652 - val_loss: 1.2956 - val_accuracy: 0.8342\n"
          ]
        },
        {
          "output_type": "execute_result",
          "data": {
            "text/plain": [
              "<keras.src.callbacks.History at 0x7f458223ec20>"
            ]
          },
          "metadata": {},
          "execution_count": 33
        }
      ]
    }
  ]
}