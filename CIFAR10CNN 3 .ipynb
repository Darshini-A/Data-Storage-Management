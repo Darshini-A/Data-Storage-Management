{
  "nbformat": 4,
  "nbformat_minor": 0,
  "metadata": {
    "colab": {
      "provenance": [],
      "gpuType": "T4",
      "authorship_tag": "ABX9TyO+WEhXhBkR1B1lO7+qHCTX",
      "include_colab_link": true
    },
    "kernelspec": {
      "name": "python3",
      "display_name": "Python 3"
    },
    "language_info": {
      "name": "python"
    },
    "accelerator": "GPU"
  },
  "cells": [
    {
      "cell_type": "markdown",
      "metadata": {
        "id": "view-in-github",
        "colab_type": "text"
      },
      "source": [
        "<a href=\"https://colab.research.google.com/github/Darshini-A/Data-Storage-Management/blob/main/CIFAR10CNN%203%20.ipynb\" target=\"_parent\"><img src=\"https://colab.research.google.com/assets/colab-badge.svg\" alt=\"Open In Colab\"/></a>"
      ]
    },
    {
      "cell_type": "code",
      "execution_count": 4,
      "metadata": {
        "id": "r2JpQN9vM7lf"
      },
      "outputs": [],
      "source": [
        "import numpy as np\n",
        "import matplotlib.pyplot as plt\n",
        "from tensorflow.keras.datasets import cifar10\n",
        "from tensorflow.keras.utils import to_categorical\n",
        "from tensorflow.keras.models import Sequential\n",
        "from tensorflow.keras.layers import Input, Dense, Conv2D, Flatten, MaxPool2D, Activation"
      ]
    },
    {
      "cell_type": "code",
      "source": [
        "(x_train, y_train), (x_test, y_test) = cifar10.load_data()"
      ],
      "metadata": {
        "colab": {
          "base_uri": "https://localhost:8080/"
        },
        "id": "BgyRb11VNOqg",
        "outputId": "4b5ba0ce-5721-4873-b6d9-6c1fe9977e8c"
      },
      "execution_count": 5,
      "outputs": [
        {
          "output_type": "stream",
          "name": "stdout",
          "text": [
            "Downloading data from https://www.cs.toronto.edu/~kriz/cifar-10-python.tar.gz\n",
            "170498071/170498071 [==============================] - 13s 0us/step\n"
          ]
        }
      ]
    },
    {
      "cell_type": "code",
      "source": [
        "print(x_train.shape)\n",
        "print(x_test.shape)\n",
        "print(y_train.shape)\n",
        "print(y_test.shape)"
      ],
      "metadata": {
        "colab": {
          "base_uri": "https://localhost:8080/"
        },
        "id": "ypxuYKNWNOuE",
        "outputId": "0b4aa8c0-7c39-4fb0-d086-6ab5cdced491"
      },
      "execution_count": 6,
      "outputs": [
        {
          "output_type": "stream",
          "name": "stdout",
          "text": [
            "(50000, 32, 32, 3)\n",
            "(10000, 32, 32, 3)\n",
            "(50000, 1)\n",
            "(10000, 1)\n"
          ]
        }
      ]
    },
    {
      "cell_type": "code",
      "source": [
        "y_train = y_train.flatten()\n",
        "y_test = y_test.flatten()\n",
        "classes = ['airplane','automobile','bird','cat','deer','dog','frog','horse','ship','truck']\n",
        "n=10000\n",
        "plt.imshow(x_train[n])\n",
        "plt.title(classes[y_train[n]])\n",
        "plt.show()"
      ],
      "metadata": {
        "colab": {
          "base_uri": "https://localhost:8080/",
          "height": 452
        },
        "id": "6ocUzHCiNOxd",
        "outputId": "7aa62cdc-9c96-4bee-8766-01211d4e1e11"
      },
      "execution_count": 7,
      "outputs": [
        {
          "output_type": "display_data",
          "data": {
            "text/plain": [
              "<Figure size 640x480 with 1 Axes>"
            ],
            "image/png": "[encoded data removed]"
          },
          "metadata": {}
        }
      ]
    },
    {
      "cell_type": "code",
      "source": [
        "y_train_ohe = to_categorical(y_train)\n",
        "y_test_ohe = to_categorical(y_test)"
      ],
      "metadata": {
        "id": "wSv_HI7dNO1C"
      },
      "execution_count": 8,
      "outputs": []
    },
    {
      "cell_type": "code",
      "source": [
        "x_train = x_train.reshape(50000, 32, 32, 3).astype(\"float\")\n",
        "x_test = x_test.reshape(10000, 32, 32, 3).astype(\"float\")"
      ],
      "metadata": {
        "id": "9DKSz5bjOW7z"
      },
      "execution_count": 9,
      "outputs": []
    },
    {
      "cell_type": "code",
      "source": [
        "model = Sequential()\n",
        "model.add(Conv2D(filters = 4, kernel_size=(3,3), strides= (1,1), padding = \"valid\", activation = \"relu\"))\n",
        "model.add(MaxPool2D(pool_size = (2,2)))\n",
        "model.add(Flatten())\n",
        "model.add(Dense(10, activation= \"softmax\"))\n",
        "model.compile(optimizer=\"adam\",\n",
        "              loss=\"categorical_crossentropy\",\n",
        "              metrics=\"accuracy\")\n",
        "model.fit(x=x_train, y=y_train_ohe, epochs=5, validation_data=(x_test, y_test_ohe), batch_size=1000)"
      ],
      "metadata": {
        "colab": {
          "base_uri": "https://localhost:8080/"
        },
        "id": "FkAL3iL9OW_P",
        "outputId": "882f7d00-f11d-4f45-ab13-7b3409316b43"
      },
      "execution_count": 10,
      "outputs": [
        {
          "output_type": "stream",
          "name": "stdout",
          "text": [
            "Epoch 1/5\n",
            "50/50 [==============================] - 4s 26ms/step - loss: 36.1913 - accuracy: 0.1311 - val_loss: 14.4765 - val_accuracy: 0.1435\n",
            "Epoch 2/5\n",
            "50/50 [==============================] - 1s 17ms/step - loss: 8.0820 - accuracy: 0.1363 - val_loss: 3.5576 - val_accuracy: 0.1452\n",
            "Epoch 3/5\n",
            "50/50 [==============================] - 1s 18ms/step - loss: 3.0345 - accuracy: 0.1364 - val_loss: 2.7264 - val_accuracy: 0.1355\n",
            "Epoch 4/5\n",
            "50/50 [==============================] - 1s 14ms/step - loss: 2.6414 - accuracy: 0.1339 - val_loss: 2.5532 - val_accuracy: 0.1304\n",
            "Epoch 5/5\n",
            "50/50 [==============================] - 1s 13ms/step - loss: 2.5156 - accuracy: 0.1333 - val_loss: 2.4761 - val_accuracy: 0.1260\n"
          ]
        },
        {
          "output_type": "execute_result",
          "data": {
            "text/plain": [
              "<keras.src.callbacks.History at 0x7c1c5c799b70>"
            ]
          },
          "metadata": {},
          "execution_count": 10
        }
      ]
    },
    {
      "cell_type": "code",
      "source": [
        "print(model.summary())"
      ],
      "metadata": {
        "colab": {
          "base_uri": "https://localhost:8080/"
        },
        "id": "SU9BWbRxO1tQ",
        "outputId": "ddeca832-36fa-4433-fa74-68c0400a6186"
      },
      "execution_count": 11,
      "outputs": [
        {
          "output_type": "stream",
          "name": "stdout",
          "text": [
            "Model: \"sequential\"\n",
            "_________________________________________________________________\n",
            " Layer (type)                Output Shape              Param #   \n",
            "=================================================================\n",
            " conv2d (Conv2D)             (1000, 30, 30, 4)         112       \n",
            "                                                                 \n",
            " max_pooling2d (MaxPooling2  (1000, 15, 15, 4)         0         \n",
            " D)                                                              \n",
            "                                                                 \n",
            " flatten (Flatten)           (1000, 900)               0         \n",
            "                                                                 \n",
            " dense (Dense)               (1000, 10)                9010      \n",
            "                                                                 \n",
            "=================================================================\n",
            "Total params: 9122 (35.63 KB)\n",
            "Trainable params: 9122 (35.63 KB)\n",
            "Non-trainable params: 0 (0.00 Byte)\n",
            "_________________________________________________________________\n",
            "None\n"
          ]
        }
      ]
    }
  ]
}